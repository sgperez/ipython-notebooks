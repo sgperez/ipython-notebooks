{
 "cells": [
  {
   "cell_type": "code",
   "execution_count": 23,
   "metadata": {
    "collapsed": false,
    "scrolled": false
   },
   "outputs": [],
   "source": [
    "%matplotlib inline\n",
    "\n",
    "import numpy as np\n",
    "import pandas as pd\n",
    "import matplotlib.pyplot as plt"
   ]
  },
  {
   "cell_type": "code",
   "execution_count": 24,
   "metadata": {
    "collapsed": false
   },
   "outputs": [
    {
     "data": {
      "text/plain": [
       "0     1\n",
       "1     3\n",
       "2     5\n",
       "3   NaN\n",
       "4     7\n",
       "5     8\n",
       "dtype: float64"
      ]
     },
     "execution_count": 24,
     "metadata": {},
     "output_type": "execute_result"
    }
   ],
   "source": [
    "s = pd.Series([1,3,5,np.nan,7,8])\n",
    "s"
   ]
  },
  {
   "cell_type": "code",
   "execution_count": 25,
   "metadata": {
    "collapsed": false
   },
   "outputs": [
    {
     "name": "stdout",
     "output_type": "stream",
     "text": [
      "DatetimeIndex(['2016-06-01', '2016-06-02', '2016-06-03', '2016-06-04',\n",
      "               '2016-06-05', '2016-06-06', '2016-06-07', '2016-06-08',\n",
      "               '2016-06-09', '2016-06-10', '2016-06-11', '2016-06-12'],\n",
      "              dtype='datetime64[ns]', freq='D')\n"
     ]
    }
   ],
   "source": [
    "dates = pd.date_range('20160601', periods=12)\n",
    "print dates"
   ]
  },
  {
   "cell_type": "code",
   "execution_count": 26,
   "metadata": {
    "collapsed": false
   },
   "outputs": [
    {
     "name": "stdout",
     "output_type": "stream",
     "text": [
      "          0         1         2         3\n",
      "0 -0.325188 -1.234778  0.734325 -0.743321\n",
      "1  1.243124 -0.067171  1.587217 -0.274206\n",
      "2 -0.135918 -2.479055  1.179214 -0.892213\n",
      "3 -0.874631 -1.221297  0.812550  0.187939\n",
      "4  0.103422 -1.309367 -1.540988 -1.209337\n",
      "5  1.446572  0.301408  0.895769 -1.275701\n"
     ]
    },
    {
     "data": {
      "text/html": [
       "<div>\n",
       "<table border=\"1\" class=\"dataframe\">\n",
       "  <thead>\n",
       "    <tr style=\"text-align: right;\">\n",
       "      <th></th>\n",
       "      <th>0</th>\n",
       "      <th>1</th>\n",
       "      <th>2</th>\n",
       "      <th>3</th>\n",
       "    </tr>\n",
       "  </thead>\n",
       "  <tbody>\n",
       "    <tr>\n",
       "      <th>0</th>\n",
       "      <td>-0.325188</td>\n",
       "      <td>-1.234778</td>\n",
       "      <td>0.734325</td>\n",
       "      <td>-0.743321</td>\n",
       "    </tr>\n",
       "    <tr>\n",
       "      <th>1</th>\n",
       "      <td>1.243124</td>\n",
       "      <td>-0.067171</td>\n",
       "      <td>1.587217</td>\n",
       "      <td>-0.274206</td>\n",
       "    </tr>\n",
       "    <tr>\n",
       "      <th>2</th>\n",
       "      <td>-0.135918</td>\n",
       "      <td>-2.479055</td>\n",
       "      <td>1.179214</td>\n",
       "      <td>-0.892213</td>\n",
       "    </tr>\n",
       "    <tr>\n",
       "      <th>3</th>\n",
       "      <td>-0.874631</td>\n",
       "      <td>-1.221297</td>\n",
       "      <td>0.812550</td>\n",
       "      <td>0.187939</td>\n",
       "    </tr>\n",
       "    <tr>\n",
       "      <th>4</th>\n",
       "      <td>0.103422</td>\n",
       "      <td>-1.309367</td>\n",
       "      <td>-1.540988</td>\n",
       "      <td>-1.209337</td>\n",
       "    </tr>\n",
       "  </tbody>\n",
       "</table>\n",
       "</div>"
      ],
      "text/plain": [
       "          0         1         2         3\n",
       "0 -0.325188 -1.234778  0.734325 -0.743321\n",
       "1  1.243124 -0.067171  1.587217 -0.274206\n",
       "2 -0.135918 -2.479055  1.179214 -0.892213\n",
       "3 -0.874631 -1.221297  0.812550  0.187939\n",
       "4  0.103422 -1.309367 -1.540988 -1.209337"
      ]
     },
     "execution_count": 26,
     "metadata": {},
     "output_type": "execute_result"
    }
   ],
   "source": [
    "df = pd.DataFrame(np.random.randn(6,4))\n",
    "print df\n",
    "#df.dtypes\n",
    "df.head()"
   ]
  },
  {
   "cell_type": "code",
   "execution_count": 27,
   "metadata": {
    "collapsed": false
   },
   "outputs": [
    {
     "data": {
      "text/html": [
       "<div>\n",
       "<table border=\"1\" class=\"dataframe\">\n",
       "  <thead>\n",
       "    <tr style=\"text-align: right;\">\n",
       "      <th></th>\n",
       "      <th>0</th>\n",
       "      <th>1</th>\n",
       "      <th>2</th>\n",
       "      <th>3</th>\n",
       "    </tr>\n",
       "  </thead>\n",
       "  <tbody>\n",
       "    <tr>\n",
       "      <th>4</th>\n",
       "      <td>0.103422</td>\n",
       "      <td>-1.309367</td>\n",
       "      <td>-1.540988</td>\n",
       "      <td>-1.209337</td>\n",
       "    </tr>\n",
       "    <tr>\n",
       "      <th>5</th>\n",
       "      <td>1.446572</td>\n",
       "      <td>0.301408</td>\n",
       "      <td>0.895769</td>\n",
       "      <td>-1.275701</td>\n",
       "    </tr>\n",
       "  </tbody>\n",
       "</table>\n",
       "</div>"
      ],
      "text/plain": [
       "          0         1         2         3\n",
       "4  0.103422 -1.309367 -1.540988 -1.209337\n",
       "5  1.446572  0.301408  0.895769 -1.275701"
      ]
     },
     "execution_count": 27,
     "metadata": {},
     "output_type": "execute_result"
    }
   ],
   "source": [
    "df.tail(2)"
   ]
  },
  {
   "cell_type": "code",
   "execution_count": 28,
   "metadata": {
    "collapsed": false
   },
   "outputs": [
    {
     "data": {
      "text/plain": [
       "0    0.242897\n",
       "1   -1.001710\n",
       "2    0.611348\n",
       "3   -0.701140\n",
       "dtype: float64"
      ]
     },
     "execution_count": 28,
     "metadata": {},
     "output_type": "execute_result"
    }
   ],
   "source": [
    "df.mean()"
   ]
  },
  {
   "cell_type": "code",
   "execution_count": 29,
   "metadata": {
    "collapsed": false
   },
   "outputs": [
    {
     "data": {
      "text/plain": [
       "<matplotlib.axes._subplots.AxesSubplot at 0x7efd529c5590>"
      ]
     },
     "execution_count": 29,
     "metadata": {},
     "output_type": "execute_result"
    },
    {
     "data": {
      "image/png": "[encoded data removed]",
      "text/plain": [
       "<matplotlib.figure.Figure at 0x7efd529c5ad0>"
      ]
     },
     "metadata": {},
     "output_type": "display_data"
    }
   ],
   "source": [
    "#plt.switch_backend('agg')\n",
    "s.plot()"
   ]
  },
  {
   "cell_type": "code",
   "execution_count": 34,
   "metadata": {
    "collapsed": true,
    "slideshow": {
     "slide_type": "-"
    }
   },
   "outputs": [],
   "source": [
    "import pdb\n",
    "low_memory=False"
   ]
  },
  {
   "cell_type": "code",
   "execution_count": 35,
   "metadata": {
    "collapsed": false
   },
   "outputs": [],
   "source": [
    "data = pd.read_csv('data/Salaries.csv')"
   ]
  },
  {
   "cell_type": "code",
   "execution_count": 36,
   "metadata": {
    "collapsed": false
   },
   "outputs": [
    {
     "name": "stdout",
     "output_type": "stream",
     "text": [
      "            Id            EmployeeName  \\\n",
      "0            1          NATHANIEL FORD   \n",
      "1            2            GARY JIMENEZ   \n",
      "2            3          ALBERT PARDINI   \n",
      "3            4       CHRISTOPHER CHONG   \n",
      "4            5         PATRICK GARDNER   \n",
      "5            6          DAVID SULLIVAN   \n",
      "6            7               ALSON LEE   \n",
      "7            8           DAVID KUSHNER   \n",
      "8            9          MICHAEL MORRIS   \n",
      "9           10      JOANNE HAYES-WHITE   \n",
      "10          11           ARTHUR KENNEY   \n",
      "11          12        PATRICIA JACKSON   \n",
      "12          13       EDWARD HARRINGTON   \n",
      "13          14             JOHN MARTIN   \n",
      "14          15          DAVID FRANKLIN   \n",
      "15          16         RICHARD CORRIEA   \n",
      "16          17                AMY HART   \n",
      "17          18          SEBASTIAN WONG   \n",
      "18          19              MARTY ROSS   \n",
      "19          20           ELLEN MOFFATT   \n",
      "20          21              VENUS AZAR   \n",
      "21          22            JUDY MELINEK   \n",
      "22          23           GEORGE GARCIA   \n",
      "23          24           VICTOR WYRSCH   \n",
      "24          25         JOSEPH DRISCOLL   \n",
      "25          26            GREGORY SUHR   \n",
      "26          27             JOHN HANLEY   \n",
      "27          28          RAYMOND GUZMAN   \n",
      "28          29          DENISE SCHMITT   \n",
      "29          30           MONICA FIELDS   \n",
      "...        ...                     ...   \n",
      "148624  148625      Lorraine Rosenthal   \n",
      "148625  148626         Renato C Gurion   \n",
      "148626  148627           Paulet Gaines   \n",
      "148627  148628        Brett A Lundberg   \n",
      "148628  148629          Mark W Mcclure   \n",
      "148629  148630       Elizabeth Iniguez   \n",
      "148630  148631            Randy J Keys   \n",
      "148631  148632         Andre M Johnson   \n",
      "148632  148633  Sharon D Owens-Webster   \n",
      "148633  148634        Edward Ferdinand   \n",
      "148634  148635          David M Turner   \n",
      "148635  148636     James S Kibblewhite   \n",
      "148636  148637           Andrew J Enzi   \n",
      "148637  148638        Kadeshra D Green   \n",
      "148638  148639    Lennard B Hutchinson   \n",
      "148639  148640       Richard A Talbert   \n",
      "148640  148641      Charlene D Mccully   \n",
      "148641  148642   Raphael Marquis Goins   \n",
      "148642  148643       Dominic C Marquez   \n",
      "148643  148644              Kim Brewer   \n",
      "148644  148645            Randy D Winn   \n",
      "148645  148646        Carolyn A Wilson   \n",
      "148646  148647            Not provided   \n",
      "148647  148648          Joann Anderson   \n",
      "148648  148649             Leon Walker   \n",
      "148649  148650           Roy I Tillery   \n",
      "148650  148651            Not provided   \n",
      "148651  148652            Not provided   \n",
      "148652  148653            Not provided   \n",
      "148653  148654               Joe Lopez   \n",
      "\n",
      "                                                JobTitle       BasePay  \\\n",
      "0         GENERAL MANAGER-METROPOLITAN TRANSIT AUTHORITY        167411   \n",
      "1                        CAPTAIN III (POLICE DEPARTMENT)        155966   \n",
      "2                        CAPTAIN III (POLICE DEPARTMENT)        212739   \n",
      "3                   WIRE ROPE CABLE MAINTENANCE MECHANIC         77916   \n",
      "4           DEPUTY CHIEF OF DEPARTMENT,(FIRE DEPARTMENT)        134402   \n",
      "5                              ASSISTANT DEPUTY CHIEF II        118602   \n",
      "6                     BATTALION CHIEF, (FIRE DEPARTMENT)         92492   \n",
      "7                         DEPUTY DIRECTOR OF INVESTMENTS        256577   \n",
      "8                     BATTALION CHIEF, (FIRE DEPARTMENT)        176933   \n",
      "9                 CHIEF OF DEPARTMENT, (FIRE DEPARTMENT)        285262   \n",
      "10      ASSISTANT CHIEF OF DEPARTMENT, (FIRE DEPARTMENT)        194999   \n",
      "11                       CAPTAIN III (POLICE DEPARTMENT)         99722   \n",
      "12                           EXECUTIVE CONTRACT EMPLOYEE        294580   \n",
      "13                                     DEPARTMENT HEAD V        271329   \n",
      "14                    BATTALION CHIEF, (FIRE DEPARTMENT)        174873   \n",
      "15                    COMMANDER III, (POLICE DEPARTMENT)        198778   \n",
      "16                                     DEPARTMENT HEAD V        268605   \n",
      "17                 CAPTAIN, EMERGENCYCY MEDICAL SERVICES        140547   \n",
      "18                    BATTALION CHIEF, (FIRE DEPARTMENT)        168693   \n",
      "19                            ASSISTANT MEDICAL EXAMINER        257511   \n",
      "20                            ASSISTANT MEDICAL EXAMINER        257510   \n",
      "21                            ASSISTANT MEDICAL EXAMINER        257510   \n",
      "22                             CAPTAIN, FIRE SUPPRESSION        140547   \n",
      "23                    BATTALION CHIEF, (FIRE DEPARTMENT)        168693   \n",
      "24                             CAPTAIN, FIRE SUPPRESSION        140547   \n",
      "25                                       CHIEF OF POLICE        256470   \n",
      "26                             CAPTAIN, FIRE SUPPRESSION       92080.8   \n",
      "27                    BATTALION CHIEF, (FIRE DEPARTMENT)        168693   \n",
      "28                  DEPUTY CHIEF III (POLICE DEPARTMENT)        261718   \n",
      "29          DEPUTY CHIEF OF DEPARTMENT,(FIRE DEPARTMENT)        246226   \n",
      "...                                                  ...           ...   \n",
      "148624                                      Senior Clerk          0.00   \n",
      "148625                                  Registered Nurse          0.00   \n",
      "148626                                     Account Clerk          0.00   \n",
      "148627                                   General Laborer          0.00   \n",
      "148628                                   General Laborer          0.00   \n",
      "148629                                Transcriber Typist          0.00   \n",
      "148630                                         Carpenter          0.00   \n",
      "148631                       Communications Dispatcher 1          0.00   \n",
      "148632                        Protective Services Worker          0.00   \n",
      "148633                                   General Laborer          0.00   \n",
      "148634                               Transit Car Cleaner          0.00   \n",
      "148635                                   General Laborer          0.00   \n",
      "148636                               Arborist Technician          0.00   \n",
      "148637                            Transit Fare Inspector          0.00   \n",
      "148638                                       Electrician          0.00   \n",
      "148639                                         Custodian          0.00   \n",
      "148640                           Parking Control Officer          0.00   \n",
      "148641                                      Museum Guard          0.00   \n",
      "148642                                       Sign Worker          0.00   \n",
      "148643                           Parking Control Officer          0.00   \n",
      "148644                      Stationary Eng, Sewage Plant          0.00   \n",
      "148645                         Human Services Technician          0.00   \n",
      "148646                                      Not provided  Not Provided   \n",
      "148647                       Communications Dispatcher 2          0.00   \n",
      "148648                                         Custodian          0.00   \n",
      "148649                                         Custodian          0.00   \n",
      "148650                                      Not provided  Not Provided   \n",
      "148651                                      Not provided  Not Provided   \n",
      "148652                                      Not provided  Not Provided   \n",
      "148653                        Counselor, Log Cabin Ranch          0.00   \n",
      "\n",
      "         OvertimePay      OtherPay      Benefits   TotalPay  TotalPayBenefits  \\\n",
      "0                  0        400184           NaN  567595.43         567595.43   \n",
      "1             245132        137811           NaN  538909.28         538909.28   \n",
      "2             106088       16452.6           NaN  335279.91         335279.91   \n",
      "3            56120.7        198307           NaN  332343.61         332343.61   \n",
      "4               9737        182235           NaN  326373.19         326373.19   \n",
      "5               8601        189083           NaN  316285.74         316285.74   \n",
      "6            89062.9        134426           NaN  315981.05         315981.05   \n",
      "7                  0       51322.5           NaN  307899.46         307899.46   \n",
      "8            86362.7       40132.2           NaN  303427.55         303427.55   \n",
      "9                  0       17115.7           NaN  302377.73         302377.73   \n",
      "10           71344.9       33149.9           NaN  299494.17         299494.17   \n",
      "11           87082.6        110804           NaN  297608.92         297608.92   \n",
      "12                 0             0           NaN  294580.02         294580.02   \n",
      "13                 0       21342.6           NaN  292671.62         292671.62   \n",
      "14           74050.3       37424.1           NaN  286347.05         286347.05   \n",
      "15           73478.2       13957.6           NaN  286213.86         286213.86   \n",
      "16                 0       16115.9           NaN  284720.43         284720.43   \n",
      "17            119397       18625.1           NaN  278569.21         278569.21   \n",
      "18           69626.1       38115.5           NaN  276434.22         276434.22   \n",
      "19            880.16       16159.5           NaN  274550.25         274550.25   \n",
      "20                 0       16679.8           NaN  274190.27         274190.27   \n",
      "21            377.21       15883.6           NaN  273771.21         273771.21   \n",
      "22           93200.6       39955.2           NaN  273702.71         273702.71   \n",
      "23           77896.1       24083.9           NaN  270672.63         270672.63   \n",
      "24           97868.8       31909.3           NaN  270324.91         270324.91   \n",
      "25                 0       11522.2           NaN  267992.59         267992.59   \n",
      "26             40008        133696           NaN  265784.56         265784.56   \n",
      "27           80706.9         16064           NaN  265463.46         265463.46   \n",
      "28                 0          2357           NaN  264074.60         264074.60   \n",
      "29                 0       15140.5           NaN  261366.14         261366.14   \n",
      "...              ...           ...           ...        ...               ...   \n",
      "148624          0.00         12.89          0.00      12.89             12.89   \n",
      "148625          0.00          6.00          1.24       6.00              7.24   \n",
      "148626          0.00          0.00          0.00       0.00              0.00   \n",
      "148627          0.00          0.00          0.00       0.00              0.00   \n",
      "148628          0.00          0.00          0.00       0.00              0.00   \n",
      "148629          0.00          0.00          0.00       0.00              0.00   \n",
      "148630          0.00          0.00          0.00       0.00              0.00   \n",
      "148631          0.00          0.00          0.00       0.00              0.00   \n",
      "148632          0.00          0.00          0.00       0.00              0.00   \n",
      "148633          0.00          0.00          0.00       0.00              0.00   \n",
      "148634          0.00          0.00          0.00       0.00              0.00   \n",
      "148635          0.00          0.00          0.00       0.00              0.00   \n",
      "148636          0.00          0.00          0.00       0.00              0.00   \n",
      "148637          0.00          0.00          0.00       0.00              0.00   \n",
      "148638          0.00          0.00          0.00       0.00              0.00   \n",
      "148639          0.00          0.00          0.00       0.00              0.00   \n",
      "148640          0.00          0.00          0.00       0.00              0.00   \n",
      "148641          0.00          0.00          0.00       0.00              0.00   \n",
      "148642          0.00          0.00          0.00       0.00              0.00   \n",
      "148643          0.00          0.00          0.00       0.00              0.00   \n",
      "148644          0.00          0.00          0.00       0.00              0.00   \n",
      "148645          0.00          0.00          0.00       0.00              0.00   \n",
      "148646  Not Provided  Not Provided  Not Provided       0.00              0.00   \n",
      "148647          0.00          0.00          0.00       0.00              0.00   \n",
      "148648          0.00          0.00          0.00       0.00              0.00   \n",
      "148649          0.00          0.00          0.00       0.00              0.00   \n",
      "148650  Not Provided  Not Provided  Not Provided       0.00              0.00   \n",
      "148651  Not Provided  Not Provided  Not Provided       0.00              0.00   \n",
      "148652  Not Provided  Not Provided  Not Provided       0.00              0.00   \n",
      "148653          0.00       -618.13          0.00    -618.13           -618.13   \n",
      "\n",
      "        Year  Notes         Agency Status  \n",
      "0       2011    NaN  San Francisco    NaN  \n",
      "1       2011    NaN  San Francisco    NaN  \n",
      "2       2011    NaN  San Francisco    NaN  \n",
      "3       2011    NaN  San Francisco    NaN  \n",
      "4       2011    NaN  San Francisco    NaN  \n",
      "5       2011    NaN  San Francisco    NaN  \n",
      "6       2011    NaN  San Francisco    NaN  \n",
      "7       2011    NaN  San Francisco    NaN  \n",
      "8       2011    NaN  San Francisco    NaN  \n",
      "9       2011    NaN  San Francisco    NaN  \n",
      "10      2011    NaN  San Francisco    NaN  \n",
      "11      2011    NaN  San Francisco    NaN  \n",
      "12      2011    NaN  San Francisco    NaN  \n",
      "13      2011    NaN  San Francisco    NaN  \n",
      "14      2011    NaN  San Francisco    NaN  \n",
      "15      2011    NaN  San Francisco    NaN  \n",
      "16      2011    NaN  San Francisco    NaN  \n",
      "17      2011    NaN  San Francisco    NaN  \n",
      "18      2011    NaN  San Francisco    NaN  \n",
      "19      2011    NaN  San Francisco    NaN  \n",
      "20      2011    NaN  San Francisco    NaN  \n",
      "21      2011    NaN  San Francisco    NaN  \n",
      "22      2011    NaN  San Francisco    NaN  \n",
      "23      2011    NaN  San Francisco    NaN  \n",
      "24      2011    NaN  San Francisco    NaN  \n",
      "25      2011    NaN  San Francisco    NaN  \n",
      "26      2011    NaN  San Francisco    NaN  \n",
      "27      2011    NaN  San Francisco    NaN  \n",
      "28      2011    NaN  San Francisco    NaN  \n",
      "29      2011    NaN  San Francisco    NaN  \n",
      "...      ...    ...            ...    ...  \n",
      "148624  2014    NaN  San Francisco     PT  \n",
      "148625  2014    NaN  San Francisco     PT  \n",
      "148626  2014    NaN  San Francisco     PT  \n",
      "148627  2014    NaN  San Francisco     PT  \n",
      "148628  2014    NaN  San Francisco     PT  \n",
      "148629  2014    NaN  San Francisco     PT  \n",
      "148630  2014    NaN  San Francisco     PT  \n",
      "148631  2014    NaN  San Francisco     PT  \n",
      "148632  2014    NaN  San Francisco     PT  \n",
      "148633  2014    NaN  San Francisco     PT  \n",
      "148634  2014    NaN  San Francisco     PT  \n",
      "148635  2014    NaN  San Francisco     PT  \n",
      "148636  2014    NaN  San Francisco     PT  \n",
      "148637  2014    NaN  San Francisco     PT  \n",
      "148638  2014    NaN  San Francisco     PT  \n",
      "148639  2014    NaN  San Francisco     PT  \n",
      "148640  2014    NaN  San Francisco     PT  \n",
      "148641  2014    NaN  San Francisco     PT  \n",
      "148642  2014    NaN  San Francisco     PT  \n",
      "148643  2014    NaN  San Francisco     PT  \n",
      "148644  2014    NaN  San Francisco     PT  \n",
      "148645  2014    NaN  San Francisco     PT  \n",
      "148646  2014    NaN  San Francisco    NaN  \n",
      "148647  2014    NaN  San Francisco     PT  \n",
      "148648  2014    NaN  San Francisco     PT  \n",
      "148649  2014    NaN  San Francisco     PT  \n",
      "148650  2014    NaN  San Francisco    NaN  \n",
      "148651  2014    NaN  San Francisco    NaN  \n",
      "148652  2014    NaN  San Francisco    NaN  \n",
      "148653  2014    NaN  San Francisco     PT  \n",
      "\n",
      "[148654 rows x 13 columns]\n"
     ]
    }
   ],
   "source": [
    "print data"
   ]
  },
  {
   "cell_type": "code",
   "execution_count": 37,
   "metadata": {
    "collapsed": true
   },
   "outputs": [],
   "source": [
    "y11 = data[data.Year == 2011]"
   ]
  },
  {
   "cell_type": "code",
   "execution_count": 44,
   "metadata": {
    "collapsed": false
   },
   "outputs": [
    {
     "data": {
      "text/plain": [
       "2014"
      ]
     },
     "execution_count": 44,
     "metadata": {},
     "output_type": "execute_result"
    }
   ],
   "source": [
    "data.Year[134556]"
   ]
  },
  {
   "cell_type": "code",
   "execution_count": null,
   "metadata": {
    "collapsed": true
   },
   "outputs": [],
   "source": []
  }
 ],
 "metadata": {
  "kernelspec": {
   "display_name": "Python 2",
   "language": "python",
   "name": "python2"
  },
  "language_info": {
   "codemirror_mode": {
    "name": "ipython",
    "version": 2
   },
   "file_extension": ".py",
   "mimetype": "text/x-python",
   "name": "python",
   "nbconvert_exporter": "python",
   "pygments_lexer": "ipython2",
   "version": "2.7.11"
  }
 },
 "nbformat": 4,
 "nbformat_minor": 0
}
